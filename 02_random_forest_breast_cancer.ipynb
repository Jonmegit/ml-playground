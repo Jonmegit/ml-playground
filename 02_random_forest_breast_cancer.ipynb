{
 "cells": [
  {
   "cell_type": "markdown",
   "id": "2138d406",
   "metadata": {},
   "source": [
    "\n",
    "# Random Forest Classification on the Breast Cancer Dataset\n",
    "\n",
    "Este cuaderno utiliza el dataset **Breast Cancer Wisconsin** para construir y evaluar un modelo de clasificación utilizando un **Random Forest**. El dataset proviene del UCI Machine Learning Repository y está disponible a través de `scikit-learn`.\n"
   ]
  },
  {
   "cell_type": "code",
   "execution_count": null,
   "id": "d8f696c4",
   "metadata": {},
   "outputs": [],
   "source": [
    "\n",
    "import pandas as pd\n",
    "from sklearn.datasets import load_breast_cancer\n",
    "from sklearn.model_selection import train_test_split\n",
    "from sklearn.ensemble import RandomForestClassifier\n",
    "from sklearn.metrics import accuracy_score, classification_report\n",
    "\n",
    "# Cargar el dataset\n",
    "data = load_breast_cancer()\n",
    "X = data.data\n",
    "y = data.target\n",
    "\n",
    "# Dividir en entrenamiento y prueba\n",
    "X_train, X_test, y_train, y_test = train_test_split(X, y, test_size=0.2, random_state=42)\n",
    "\n",
    "# Construir el modelo\n",
    "model = RandomForestClassifier(n_estimators=100, random_state=42)\n",
    "model.fit(X_train, y_train)\n",
    "\n",
    "# Predicciones y evaluación\n",
    "y_pred = model.predict(X_test)\n",
    "acc = accuracy_score(y_test, y_pred)\n",
    "print(f\"Exactitud del modelo: {acc:.4f}\")\n",
    "print(\"\n",
    "Reporte de clasificación:\n",
    "\", classification_report(y_test, y_pred))\n"
   ]
  },
  {
   "cell_type": "markdown",
   "id": "18799c1f",
   "metadata": {},
   "source": [
    "\n",
    "**Notas:**\n",
    "\n",
    "- El dataset Breast Cancer Wisconsin incluye características extraídas de imágenes de biopsias de mama.\n",
    "- Se utiliza `RandomForestClassifier` de scikit-learn con 100 árboles.\n",
    "- Se reportan la exactitud y un reporte de clasificación completo.\n"
   ]
  }
 ],
 "metadata": {},
 "nbformat": 4,
 "nbformat_minor": 5
}
