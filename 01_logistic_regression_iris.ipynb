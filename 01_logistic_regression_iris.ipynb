{
 "cells": [
  {
   "cell_type": "markdown",
   "id": "a56f1a6d",
   "metadata": {},
   "source": [
    "# Regresión logística en el conjunto de datos Iris\n",
    "\n",
    "En este notebook se muestra cómo utilizar la regresión logística para clasificar flores en el clásico conjunto de datos Iris."
   ]
  },
  {
   "cell_type": "markdown",
   "id": "a062ee4c",
   "metadata": {},
   "source": [
    "## Descripción del conjunto de datos\n",
    "\n",
    "El conjunto de datos Iris contiene 150 muestras de flores de tres especies (Setosa, Versicolor y Virginica). Cada muestra tiene cuatro características numéricas: largo del sépalo, ancho del sépalo, largo del pétalo y ancho del pétalo. Es un conjunto usado frecuentemente para tareas de clasificación."
   ]
  },
  {
   "cell_type": "code",
   "execution_count": null,
   "id": "79e916ea",
   "metadata": {},
   "outputs": [],
   "source": [
    "# Importar bibliotecas\n",
    "import pandas as pd\n",
    "from sklearn.datasets import load_iris\n",
    "from sklearn.model_selection import train_test_split\n",
    "from sklearn.linear_model import LogisticRegression\n",
    "from sklearn.metrics import accuracy_score, classification_report, confusion_matrix\n",
    "import matplotlib.pyplot as plt\n",
    "\n",
    "# Cargar el dataset\n",
    "iris = load_iris()\n",
    "X = pd.DataFrame(iris.data, columns=iris.feature_names)\n",
    "y = pd.Series(iris.target, name='species')\n",
    "\n",
    "# Mostrar primeras filas\n",
    "X.head()"
   ]
  },
  {
   "cell_type": "code",
   "execution_count": null,
   "id": "2e1bc2cc",
   "metadata": {},
   "outputs": [],
   "source": [
    "# Dividir en conjunto de entrenamiento y prueba\n",
    "X_train, X_test, y_train, y_test = train_test_split(X, y, test_size=0.3, random_state=42, stratify=y)\n",
    "\n",
    "# Inicializar y ajustar el modelo de regresión logística\n",
    "model = LogisticRegression(max_iter=200)\n",
    "model.fit(X_train, y_train)\n",
    "\n",
    "# Predicciones\n",
    "y_pred = model.predict(X_test)\n",
    "\n",
    "# Calcular precisión\n",
    "accuracy = accuracy_score(y_test, y_pred)\n",
    "print(f'Exactitud del modelo: {accuracy:.3f}')"
   ]
  },
  {
   "cell_type": "code",
   "execution_count": null,
   "id": "cd0446c1",
   "metadata": {},
   "outputs": [],
   "source": [
    "# Reporte de clasificación y matriz de confusión\n",
    "print(classification_report(y_test, y_pred, target_names=iris.target_names))\n",
    "\n",
    "cm = confusion_matrix(y_test, y_pred)\n",
    "fig, ax = plt.subplots()\n",
    "ax.imshow(cm)\n",
    "ax.set_xticks(range(len(iris.target_names)))\n",
    "ax.set_yticks(range(len(iris.target_names)))\n",
    "ax.set_xticklabels(iris.target_names)\n",
    "ax.set_yticklabels(iris.target_names)\n",
    "plt.title('Matriz de confusión')\n",
    "plt.xlabel('Predicción')\n",
    "plt.ylabel('Real')\n",
    "plt.show()"
   ]
  },
  {
   "cell_type": "markdown",
   "id": "dc9cf398",
   "metadata": {},
   "source": [
    "## Conclusión\n",
    "\n",
    "La regresión logística es una técnica adecuada para problemas de clasificación multiclase cuando las clases son linealmente separables. Este ejemplo demuestra cómo entrenar un modelo sencillo en el conjunto de datos Iris y evaluar su rendimiento. La función logística convierte la salida lineal en probabilidades entre 0 y 1, lo que permite tomar decisiones de clasificación basadas en un umbral【61158358276537†L183-L200】."
   ]
  }
 ],
 "metadata": {},
 "nbformat": 4,
 "nbformat_minor": 5
}
